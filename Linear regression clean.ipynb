{
 "cells": [
  {
   "cell_type": "markdown",
   "id": "a1c3fb1b",
   "metadata": {},
   "source": [
    "Import necessary plugins"
   ]
  },
  {
   "cell_type": "code",
   "execution_count": 1,
   "id": "b357196b",
   "metadata": {},
   "outputs": [],
   "source": [
    "import numpy as np\n",
    "import matplotlib.pyplot as plt\n",
    "import pandas as pd\n"
   ]
  },
  {
   "cell_type": "markdown",
   "id": "11ba51aa",
   "metadata": {},
   "source": [
    "read and standardize the data"
   ]
  },
  {
   "cell_type": "code",
   "execution_count": 2,
   "id": "ce99f775",
   "metadata": {},
   "outputs": [
    {
     "name": "stderr",
     "output_type": "stream",
     "text": [
      "C:\\Users\\Ondra\\AppData\\Local\\Temp\\ipykernel_28204\\793317666.py:17: FutureWarning: The 'delim_whitespace' keyword in pd.read_csv is deprecated and will be removed in a future version. Use ``sep='\\s+'`` instead\n",
      "  df = pd.read_csv(\n"
     ]
    },
    {
     "name": "stdout",
     "output_type": "stream",
     "text": [
      "      CRIM    ZN  INDUS  CHAS    NOX     RM   AGE     DIS  RAD    TAX  \\\n",
      "0  0.00632  18.0   2.31     0  0.538  6.575  65.2  4.0900    1  296.0   \n",
      "1  0.02731   0.0   7.07     0  0.469  6.421  78.9  4.9671    2  242.0   \n",
      "2  0.02729   0.0   7.07     0  0.469  7.185  61.1  4.9671    2  242.0   \n",
      "3  0.03237   0.0   2.18     0  0.458  6.998  45.8  6.0622    3  222.0   \n",
      "4  0.06905   0.0   2.18     0  0.458  7.147  54.2  6.0622    3  222.0   \n",
      "\n",
      "   PTRATIO       B  LSTAT  MEDV  \n",
      "0     15.3  396.90   4.98  24.0  \n",
      "1     17.8  396.90   9.14  21.6  \n",
      "2     17.8  392.83   4.03  34.7  \n",
      "3     18.7  394.63   2.94  33.4  \n",
      "4     18.7  396.90   5.33  36.2  \n",
      "[[ 1.         -0.42023335  0.28464542 ... -1.46382318  0.44157346\n",
      "  -1.07357933]\n",
      " [ 1.         -0.4177927  -0.48714485 ... -0.30646048  0.44157346\n",
      "  -0.49055393]\n",
      " [ 1.         -0.41779502 -0.48714485 ... -0.30646048  0.39698405\n",
      "  -1.20672215]\n",
      " ...\n",
      " [ 1.         -0.41390323 -0.48714485 ...  1.17496378  0.44157346\n",
      "  -0.98108011]\n",
      " [ 1.         -0.40822543 -0.48714485 ...  1.17496378  0.40377654\n",
      "  -0.86335383]\n",
      " [ 1.         -0.41545553 -0.48714485 ...  1.17496378  0.44157346\n",
      "  -0.66714336]]\n"
     ]
    }
   ],
   "source": [
    "column_names = [\n",
    "    \"CRIM\",    # per capita crime rate by town\n",
    "    \"ZN\",      # proportion of residential land zoned for lots over 25,000 sq.ft.\n",
    "    \"INDUS\",   # proportion of non-retail business acres per town\n",
    "    \"CHAS\",    # Charles River dummy variable (= 1 if tract bounds river; 0 otherwise)\n",
    "    \"NOX\",     # nitric oxides concentration (parts per 10 million)\n",
    "    \"RM\",      # average number of rooms per dwelling\n",
    "    \"AGE\",     # proportion of owner-occupied units built before 1940\n",
    "    \"DIS\",     # weighted distances to five Boston employment centers\n",
    "    \"RAD\",     # index of accessibility to radial highways\n",
    "    \"TAX\",     # full-value property-tax rate per $10,000\n",
    "    \"PTRATIO\", # pupil-teacher ratio by town\n",
    "    \"B\",       # 1000(Bk - 0.63)^2 where Bk is proportion of Black population\n",
    "    \"LSTAT\",   # % lower status of the population\n",
    "    \"MEDV\"     # Median value of owner-occupied homes in $1000s (target variable)\n",
    "]\n",
    "df = pd.read_csv(\n",
    "    r\"C:\\Users\\Ondra\\.vscode\\python\\Linear regression\\archive\\housing.csv\",\n",
    "    header=None,\n",
    "    names=column_names,\n",
    "    delim_whitespace=True\n",
    ")\n",
    "print(df.head())\n",
    "\n",
    "from sklearn.preprocessing import StandardScaler\n",
    "X_raw = df.iloc[:, :-1].values  # all columns except MEDV\n",
    "y = df.iloc[:, -1].values.reshape(-1, 1)  # MEDV column\n",
    "\n",
    "# Initialize scaler and fit-transform the features\n",
    "scaler = StandardScaler()\n",
    "X_scaled = scaler.fit_transform(X_raw)\n",
    "X = np.hstack((np.ones((X_scaled.shape[0], 1)), X_scaled))\n",
    "print(X)"
   ]
  },
  {
   "cell_type": "markdown",
   "id": "29f2c619",
   "metadata": {},
   "source": [
    "Set the training algorithm and initial weight vector to zero with the bias term"
   ]
  },
  {
   "cell_type": "code",
   "execution_count": 3,
   "id": "ed6ce45a",
   "metadata": {},
   "outputs": [
    {
     "name": "stdout",
     "output_type": "stream",
     "text": [
      "Final weights: [22.52376238 -0.8867289   1.04378964 -0.03461132  0.71341981 -1.97523641\n",
      "  2.71174791 -0.06806462 -3.15647392  2.20382541 -1.58671573 -1.99149039\n",
      "  0.84061584 -3.75650464]\n"
     ]
    }
   ],
   "source": [
    "iterations=5000\n",
    "learning_rate=0.005\n",
    "# initial weight vector\n",
    "w= np.zeros((X.shape[1], 1))\n",
    "#Training algorithm\n",
    "for i in range(iterations):\n",
    "    y_pred=X@w\n",
    "    error=y_pred-y\n",
    "    gradient=(1/X.shape[0])*X.T@error\n",
    "    w=w-learning_rate*gradient\n",
    "#print w\n",
    "print(\"Final weights:\", w.flatten())"
   ]
  },
  {
   "cell_type": "markdown",
   "id": "0dc88cd1",
   "metadata": {},
   "source": [
    "Set the testing data (standardized)"
   ]
  },
  {
   "cell_type": "code",
   "execution_count": 4,
   "id": "1f09256a",
   "metadata": {},
   "outputs": [
    {
     "name": "stdout",
     "output_type": "stream",
     "text": [
      "Predicted value for the test data: 24.888670580493567\n"
     ]
    }
   ],
   "source": [
    "x_test=np.array([\n",
    "    1.0,       # bias\n",
    "   -0.417,     # CRIM\n",
    "   -0.487,     # ZN\n",
    "   -0.593,     # INDUS\n",
    "   -0.273,     # CHAS\n",
    "   -0.739,     # NOX\n",
    "    0.194,     # RM\n",
    "    0.368,     # AGE\n",
    "    0.558,     # DIS\n",
    "   -0.867,     # RAD\n",
    "   -0.985,     # TAX\n",
    "   -0.303,     # PTRATIO\n",
    "    0.441,     # B\n",
    "   -0.493      # LSTAT\n",
    "]).reshape(-1, 1)\n",
    "y_pred = x_test.T @ w\n",
    "print(\"Predicted value for the test data:\", y_pred[0, 0])"
   ]
  },
  {
   "cell_type": "markdown",
   "id": "95945353",
   "metadata": {},
   "source": [
    " 0.14455  12.50   7.870  0  0.5240  6.1720  96.10  5.9505   5  311.0  15.20 396.90  19.15  27.10\n",
    "\n",
    " -2.30297\n",
    "-1.85747\n",
    "-2.02188\n",
    "-2.30426\n",
    "-2.28394\n",
    "-2.08859\n",
    "1.12586\n",
    "-2.09633\n",
    "-2.12521\n",
    "8.79092\n",
    "-1.76271\n",
    "11.85557\n",
    "-1.62047\n",
    "-1.33607\n"
   ]
  },
  {
   "cell_type": "code",
   "execution_count": 5,
   "id": "a2ec9d3e",
   "metadata": {},
   "outputs": [
    {
     "name": "stdout",
     "output_type": "stream",
     "text": [
      "Predicted value for the test data: 27.372531559443146\n"
     ]
    }
   ],
   "source": [
    "x_test=np.array([\n",
    "    1,\n",
    " -2.30297,\n",
    "-1.85747,\n",
    "-2.02188,\n",
    "-2.30426,\n",
    "-2.28394,\n",
    "-2.08859,\n",
    "1.12586,\n",
    "-2.09633,\n",
    "-2.12521,\n",
    "8.79092,\n",
    "-1.76271,\n",
    "11.85557,\n",
    "-1.62047\n",
    "]).reshape(-1, 1)\n",
    "y_pred = x_test.T @ w\n",
    "print(\"Predicted value for the test data:\", y_pred[0, 0])"
   ]
  }
 ],
 "metadata": {
  "kernelspec": {
   "display_name": "Python 3",
   "language": "python",
   "name": "python3"
  },
  "language_info": {
   "codemirror_mode": {
    "name": "ipython",
    "version": 3
   },
   "file_extension": ".py",
   "mimetype": "text/x-python",
   "name": "python",
   "nbconvert_exporter": "python",
   "pygments_lexer": "ipython3",
   "version": "3.13.4"
  }
 },
 "nbformat": 4,
 "nbformat_minor": 5
}
